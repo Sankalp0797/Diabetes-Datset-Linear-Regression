{
 "cells": [
  {
   "cell_type": "code",
   "execution_count": 4,
   "metadata": {},
   "outputs": [
    {
     "name": "stdout",
     "output_type": "stream",
     "text": [
      "Train data:  (331, 11)\n",
      "(331, 10)\n",
      "(331,)\n",
      "Testing data:  (111, 10)\n",
      "(111, 10)\n"
     ]
    }
   ],
   "source": [
    "import numpy as np\n",
    "dt1=np.loadtxt(\"0000000000002329_test_diabetes_x_test.csv\",delimiter=\",\")\n",
    "dt2=np.loadtxt(\"0000000000002329_training_diabetes_x_y_train.csv\",delimiter=\",\")\n",
    "x_train=dt2[:,:10]\n",
    "y_train=dt2[:,10]\n",
    "x_test=dt1[:,:10]\n",
    "print(\"Train data: \",dt2.shape)\n",
    "print(x_train.shape)\n",
    "print(y_train.shape)\n",
    "print(\"Testing data: \",dt1.shape)\n",
    "print(x_test.shape)"
   ]
  },
  {
   "cell_type": "code",
   "execution_count": 5,
   "metadata": {},
   "outputs": [
    {
     "name": "stdout",
     "output_type": "stream",
     "text": [
      "[105.52974799 105.8039198  178.60857225  79.3828781   52.95868706\n",
      "  98.87263854 150.71755448  34.86515216 113.13535727 161.50184038\n",
      " 135.8615611   94.71592222 138.48094422 141.37441723 158.76862662\n",
      " 171.65288616 106.44835654 103.92659639  95.38693889 167.40118092\n",
      " 166.53426278 101.53464712 252.45035972 147.02258547 214.78906632\n",
      " 161.27557106 210.61315228  71.78091585 189.65032431 206.6134259\n",
      " 219.98643455 168.80192534 116.84846127 178.74399639  77.03247418\n",
      "  59.54633214 111.5673781  156.95186739 154.59591259 198.94457493\n",
      " 115.53884017 153.46699024  84.96179518 113.70337192 142.14155617\n",
      " 147.31040378  82.78072358  77.89237327 128.99006192 261.58712282\n",
      " 213.31187775 243.98791257 167.68132094 183.69712124 166.85926884\n",
      " 202.11440188 220.39235543 172.40288024 176.60897931 109.04656567\n",
      " 276.37789836  90.99941821 289.37221147 119.56253351  75.45687948\n",
      " 180.78598759 146.62093081 156.42382465  41.079036   247.90645166\n",
      " 207.99121432  90.09641075 222.24169638 189.86378006 182.2695376\n",
      " 164.39881376 190.27066587 105.4486795  199.86136394 245.796388\n",
      " 123.20281334 119.41031908 145.86620411 206.19247291 150.86282453\n",
      " 142.23221646 154.56874616 115.29233396 134.07810123 118.42225404\n",
      " 203.5767555  170.66483797 127.409797    57.13507634 231.92226503\n",
      " 185.20713654 187.37494558  83.55920849 185.42585685 217.34035639\n",
      " 108.86715354  80.98714568 127.05524123 242.00738792 155.9723414\n",
      " 125.67575276 246.41235643 234.963933   191.51298252 168.33254477\n",
      " 163.02965178]\n"
     ]
    }
   ],
   "source": [
    "from sklearn.linear_model import LinearRegression\n",
    "alg1=LinearRegression()\n",
    "alg1.fit(x_train,y_train)\n",
    "y_pred=alg1.predict(x_test)\n",
    "print(y_pred)\n",
    "'''for i in y_pred:\n",
    "    a=\"%.5f\"%i\n",
    "    b=int(a)\n",
    "    Y_pred.append(b)\n",
    "print(Y_pred)'''\n",
    "np.savetxt(\"sbc.csv\",y_pred,fmt=\"%.5f\",delimiter=\",\")"
   ]
  },
  {
   "cell_type": "code",
   "execution_count": null,
   "metadata": {},
   "outputs": [],
   "source": []
  }
 ],
 "metadata": {
  "kernelspec": {
   "display_name": "Python 3",
   "language": "python",
   "name": "python3"
  },
  "language_info": {
   "codemirror_mode": {
    "name": "ipython",
    "version": 3
   },
   "file_extension": ".py",
   "mimetype": "text/x-python",
   "name": "python",
   "nbconvert_exporter": "python",
   "pygments_lexer": "ipython3",
   "version": "3.7.3"
  }
 },
 "nbformat": 4,
 "nbformat_minor": 2
}
